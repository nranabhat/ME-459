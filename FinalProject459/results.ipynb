{
 "cells": [
  {
   "cell_type": "code",
   "execution_count": 4,
   "metadata": {},
   "outputs": [
    {
     "data": {
      "image/png": "[encoded data removed]",
      "text/plain": [
       "<Figure size 432x288 with 1 Axes>"
      ]
     },
     "metadata": {
      "needs_background": "light"
     },
     "output_type": "display_data"
    }
   ],
   "source": [
    "import matplotlib.pyplot as plt\n",
    "\n",
    "# Data\n",
    "data = [\n",
    "    [1,   200, 0.308],\n",
    "    [1,   400, 0.092],\n",
    "    [1,   600, 0.070],\n",
    "    [1,   800, 0.060],\n",
    "    [2,   200, 0.046],\n",
    "    [2,   400, 0.036],\n",
    "    [2,   600, 0.038],\n",
    "    [2,   800, 0.040],\n",
    "    [3,   200, 0.026],\n",
    "    [3,   400, 0.028],\n",
    "    [3,   600, 0.027],\n",
    "    [3,   800, 0.026],\n",
    "    [4,   200, 0.019],\n",
    "    [4,   400, 0.016],\n",
    "    [4,   600, 0.028],\n",
    "    [4,   800, 0.022],\n",
    "    [5,   200, 0.014],\n",
    "    [5,   400, 0.016],\n",
    "    [5,   600, 0.015],\n",
    "    [5,   800, 0.017]\n",
    "]\n",
    "\n",
    "# Group data by epoch and calculate average loss for each epoch\n",
    "epoch_losses = {}\n",
    "for epoch, _, loss in data:\n",
    "    if epoch not in epoch_losses:\n",
    "        epoch_losses[epoch] = []\n",
    "    epoch_losses[epoch].append(loss)\n",
    "epoch_losses = {epoch: sum(losses)/len(losses) for epoch, losses in epoch_losses.items()}\n",
    "\n",
    "# Plot loss vs epoch\n",
    "#plt.figure(figsize=(8, 6))  # Increase figure size\n",
    "plt.plot(list(epoch_losses.keys()), list(epoch_losses.values()), '-o', linewidth=2)  # Increase line width\n",
    "plt.xlabel('Epoch')\n",
    "plt.ylabel('Loss')\n",
    "plt.title('Loss vs Epoch')\n",
    "plt.xticks(range(1, len(epoch_losses)+1))\n",
    "plt.savefig('loss_vs_epoch.png', dpi=300)  \n",
    "plt.show()\n"
   ]
  }
 ],
 "metadata": {
  "kernelspec": {
   "display_name": "Python 3",
   "language": "python",
   "name": "python3"
  },
  "language_info": {
   "codemirror_mode": {
    "name": "ipython",
    "version": 3
   },
   "file_extension": ".py",
   "mimetype": "text/x-python",
   "name": "python",
   "nbconvert_exporter": "python",
   "pygments_lexer": "ipython3",
   "version": "3.10.2"
  },
  "orig_nbformat": 4
 },
 "nbformat": 4,
 "nbformat_minor": 2
}
